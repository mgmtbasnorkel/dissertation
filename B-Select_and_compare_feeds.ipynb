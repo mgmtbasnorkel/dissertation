{
 "cells": [
  {
   "cell_type": "markdown",
   "metadata": {},
   "source": [
    "# Comparison of feeds"
   ]
  },
  {
   "cell_type": "code",
   "execution_count": 1,
   "metadata": {},
   "outputs": [],
   "source": [
    "from IPython.core.interactiveshell import InteractiveShell\n",
    "InteractiveShell.ast_node_interactivity = \"all\""
   ]
  },
  {
   "cell_type": "markdown",
   "metadata": {},
   "source": [
    "## API Key Configuration"
   ]
  },
  {
   "cell_type": "code",
   "execution_count": 5,
   "metadata": {},
   "outputs": [],
   "source": [
    "import matplotlib.pyplot as plt \n",
    "import seaborn as sns\n",
    "sns.set(style=\"darkgrid\")\n",
    "\n",
    "import pandas as pd\n",
    "pd.set_option('display.max_columns', None)\n",
    "pd.set_option('display.max_colwidth', 50)\n",
    "pd.set_option('display.max_rows', 200)\n",
    "\n",
    "import os\n",
    "#get filesize\n",
    "suffixes = ['B', 'KB', 'MB', 'GB', 'TB', 'PB'] #https://stackoverflow.com/a/14996816/13030358 #convert to mb\n",
    "def humansize(nbytes):\n",
    "    i = 0\n",
    "    while nbytes >= 1024 and i < len(suffixes)-1:\n",
    "        nbytes /= 1024.\n",
    "        i += 1\n",
    "    f = ('%.2f' % nbytes).rstrip('0').rstrip('.')\n",
    "    return '%s %s' % (f, suffixes[i])\n",
    "\n",
    "#humansize(os.stat('/project/OTX-Python-SDK/fetched_data/pulses_set_METADEFENDER.csv').st_size )\n",
    "\n",
    "import numpy as np\n",
    "\n",
    "import json"
   ]
  },
  {
   "cell_type": "code",
   "execution_count": 6,
   "metadata": {},
   "outputs": [],
   "source": [
    " #pd.show_versions(as_json=False)"
   ]
  },
  {
   "cell_type": "code",
   "execution_count": 7,
   "metadata": {},
   "outputs": [],
   "source": [
    "from datetime import datetime, timedelta"
   ]
  },
  {
   "cell_type": "code",
   "execution_count": 19,
   "metadata": {},
   "outputs": [],
   "source": [
    "# pulses = otx.getall()\n",
    "# pulses_df = pd.json_normalize(pulses)\n",
    "# pulses_df['created'] = pd.to_datetime(pulses_df.created)\n",
    "# pulses_df['modified'] = pd.to_datetime(pulses_df.modified)\n",
    "# pulses_df.shape\n",
    "# pulses_df.head()\n",
    "\n",
    "### Save dataset for further analysis (optional)\n",
    "#pulses_df.to_csv('./fetched_data/pulses_set_' + ver + '.csv')\n",
    "\n",
    "####\n",
    "#OR#\n",
    "####\n",
    "#pulses_df = pd.read_pickle('./fetched_data/ALIENVAULT_pulses_set.pkl')\n",
    "#sample if we want quick loading of subset\n",
    "#pulses_df = pulses_df.sample(5000, random_state=94)\n"
   ]
  },
  {
   "cell_type": "markdown",
   "metadata": {},
   "source": [
    "## Feature Extraction"
   ]
  },
  {
   "cell_type": "markdown",
   "metadata": {},
   "source": [
    "## Fraction of Nulls to total per attribute"
   ]
  },
  {
   "cell_type": "code",
   "execution_count": 23,
   "metadata": {},
   "outputs": [],
   "source": [
    "def get_summary_missing(pulses_DF):\n",
    "    #Convert empty to NaNs\n",
    "    pulses_DF = pulses_DF.replace(\"\", np.nan)  #replace empty strings with NaN\n",
    "    pulses_DF.references = pulses_DF.references.apply(lambda y: np.nan if len(y)==0 else y)\n",
    "    print(pulses_DF.created.min())\n",
    "    print(pulses_DF.created.max())\n",
    "    missing = pd.Series(pulses_DF.isnull().mean() * 100).to_frame().round(2).T\n",
    "    missing.index = ['Missing (%):']\n",
    "    print(missing.loc[:,['description', 'references']])"
   ]
  },
  {
   "cell_type": "code",
   "execution_count": 24,
   "metadata": {},
   "outputs": [
    {
     "name": "stdout",
     "output_type": "stream",
     "text": [
      "2014-11-19 19:00:59.709000\n",
      "2020-06-02 16:07:07.756000\n",
      "              description  references\n",
      "Missing (%):         9.36        3.45\n"
     ]
    }
   ],
   "source": [
    "pulses_df = pd.read_pickle('./fetched_data/ALIENVAULT_pulses_set.pkl')\n",
    "get_summary_missing(pulses_df)"
   ]
  },
  {
   "cell_type": "code",
   "execution_count": 27,
   "metadata": {
    "scrolled": true
   },
   "outputs": [
    {
     "name": "stdout",
     "output_type": "stream",
     "text": [
      "METADEFENDER\n",
      "2017-05-24 11:01:54.694\n",
      "2020-04-14 13:55:31.848\n",
      "              description  references\n",
      "Missing (%):         0.24         0.0\n",
      "BOTNETEXPOSER\n",
      "2019-03-09 13:49:33.105000\n",
      "2020-04-14 13:55:31.848000\n",
      "              description  references\n",
      "Missing (%):         0.01       99.98\n",
      "JNAZARIO\n",
      "2016-06-17 21:40:18.182\n",
      "2020-05-21 03:53:04.273\n",
      "              description  references\n",
      "Missing (%):         0.15         0.0\n",
      "YARA_MATCHES\n",
      "2018-07-19 14:04:34.636000\n",
      "2020-07-26 23:26:50.369000\n",
      "              description  references\n",
      "Missing (%):         0.02       99.95\n",
      "MALWAREPATROL\n",
      "2016-08-25T19:45:45.740000\n",
      "2020-08-05T23:57:04.291000\n",
      "              description  references\n",
      "Missing (%):         0.02       99.93\n",
      "POPULARMALWARE\n",
      "2016-08-25T19:45:45.740000\n",
      "2020-08-06T23:57:02.848000\n",
      "              description  references\n",
      "Missing (%):         0.02       99.93\n",
      "ALIENVAULT\n",
      "2014-11-19 19:00:59.709000\n",
      "2020-06-02 16:07:07.756000\n",
      "              description  references\n",
      "Missing (%):         9.36        3.45\n"
     ]
    }
   ],
   "source": [
    "pulses_df = pd.read_pickle('./fetched_data/METADEFENDER_pulses_set.pkl')\n",
    "print('METADEFENDER')\n",
    "get_summary_missing(pulses_df)\n",
    "\n",
    "pulses_df = pd.read_pickle('./fetched_data/BOTNETEXPOSER_pulses_set.pkl')\n",
    "print('BOTNETEXPOSER')\n",
    "get_summary_missing(pulses_df)\n",
    "\n",
    "pulses_df = pd.read_pickle('./fetched_data/JNAZARIO_pulses_set.pkl')\n",
    "print('JNAZARIO')\n",
    "get_summary_missing(pulses_df)\n",
    "\n",
    "pulses_df = pd.read_pickle('./fetched_data/YARA_MATCHES_pulses_set.pkl')\n",
    "print('YARA_MATCHES')\n",
    "get_summary_missing(pulses_df)\n",
    "\n",
    "pulses_df = pd.read_pickle('./fetched_data/MALWAREPATROL_pulses_set.pkl')\n",
    "print('MALWAREPATROL')\n",
    "get_summary_missing(pulses_df)\n",
    "\n",
    "pulses_df = pd.read_pickle('./fetched_data/POPULARMALWARE_pulses_set.pkl')\n",
    "print('POPULARMALWARE')\n",
    "get_summary_missing(pulses_df)\n",
    "\n",
    "pulses_df = pd.read_pickle('./fetched_data/ALIENVAULT_pulses_set.pkl')\n",
    "print('ALIENVAULT')\n",
    "get_summary_missing(pulses_df)"
   ]
  }
 ],
 "metadata": {
  "kernelspec": {
   "display_name": "Python [conda env:Python3]",
   "language": "python",
   "name": "conda-env-Python3-py"
  },
  "language_info": {
   "codemirror_mode": {
    "name": "ipython",
    "version": 3
   },
   "file_extension": ".py",
   "mimetype": "text/x-python",
   "name": "python",
   "nbconvert_exporter": "python",
   "pygments_lexer": "ipython3",
   "version": "3.6.10"
  }
 },
 "nbformat": 4,
 "nbformat_minor": 2
}
